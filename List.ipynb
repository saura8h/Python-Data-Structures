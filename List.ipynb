{
 "cells": [
  {
   "cell_type": "markdown",
   "metadata": {},
   "source": [
    "# List"
   ]
  },
  {
   "cell_type": "markdown",
   "metadata": {},
   "source": [
    "+ List constants are surrounded by square brackets and the elements in the list are separated by commas\n",
    "\n",
    "+ A list can have different types of python objects together; it can even have another list\n",
    "\n",
    "+ Lists are mutable - their contents can be changed (unlike strings)"
   ]
  },
  {
   "cell_type": "markdown",
   "metadata": {},
   "source": [
    "### Constructing"
   ]
  },
  {
   "cell_type": "code",
   "execution_count": 23,
   "metadata": {},
   "outputs": [],
   "source": [
    "stuff = []        # creates an empty list\n",
    "\n",
    "stuff = list()    # creates an empty list of type object using a constructor"
   ]
  },
  {
   "cell_type": "code",
   "execution_count": 1,
   "metadata": {},
   "outputs": [
    {
     "name": "stdout",
     "output_type": "stream",
     "text": [
      "[1, 24, 76]\n",
      "['red', 'yellow', 'blue']\n",
      "['red', 24, 25.2134]\n",
      "[]\n"
     ]
    }
   ],
   "source": [
    "print([1, 24, 76])\n",
    "\n",
    "print(['red', 'yellow', 'blue'])\n",
    "\n",
    "print(['red', 24, 25.2134])\n",
    "\n",
    "print([])"
   ]
  },
  {
   "cell_type": "markdown",
   "metadata": {},
   "source": [
    "### Index of an item"
   ]
  },
  {
   "cell_type": "markdown",
   "metadata": {},
   "source": [
    "Only returns the index of the first match to its argument. \n",
    "\n",
    "Raises ValueError if the item is not present."
   ]
  },
  {
   "cell_type": "code",
   "execution_count": 8,
   "metadata": {},
   "outputs": [
    {
     "data": {
      "text/plain": [
       "2"
      ]
     },
     "execution_count": 8,
     "metadata": {},
     "output_type": "execute_result"
    }
   ],
   "source": [
    "test_list = ['foo', 'bar', 'baz', 'foo', 'bar', 'baz']\n",
    "test_list.index('baz')"
   ]
  },
  {
   "cell_type": "markdown",
   "metadata": {},
   "source": [
    "### Looking inside lists"
   ]
  },
  {
   "cell_type": "code",
   "execution_count": 16,
   "metadata": {},
   "outputs": [
    {
     "name": "stdout",
     "output_type": "stream",
     "text": [
      "['Joseph', 'Glenn', 'Sally']\n",
      "Glenn\n",
      "['Joseph', 'Jason', 'Sally']\n"
     ]
    }
   ],
   "source": [
    "friends = ['Joseph', 'Glenn', 'Sally']\n",
    "print(friends)\n",
    "print(friends[1])\n",
    "\n",
    "friends[1] = 'Jason'\n",
    "print(friends)"
   ]
  },
  {
   "cell_type": "markdown",
   "metadata": {},
   "source": [
    "### Range "
   ]
  },
  {
   "cell_type": "code",
   "execution_count": 61,
   "metadata": {},
   "outputs": [
    {
     "name": "stdout",
     "output_type": "stream",
     "text": [
      "range(0, 4)\n",
      "3\n",
      "range(0, 3)\n"
     ]
    }
   ],
   "source": [
    "print(range(4))\n",
    "print(len(friends))\n",
    "print(range(len(friends)))"
   ]
  },
  {
   "cell_type": "code",
   "execution_count": 63,
   "metadata": {},
   "outputs": [
    {
     "name": "stdout",
     "output_type": "stream",
     "text": [
      "Happy New Year, Joseph\n",
      "Happy New Year, Jason\n",
      "Happy New Year, Sally\n"
     ]
    }
   ],
   "source": [
    "for friend in friends:    # using iteration variable 'friend' to go through list\n",
    "    print('Happy New Year,', friend)"
   ]
  },
  {
   "cell_type": "code",
   "execution_count": 17,
   "metadata": {},
   "outputs": [
    {
     "name": "stdout",
     "output_type": "stream",
     "text": [
      "Happy New Year, Joseph\n",
      "Happy New Year, Jason\n",
      "Happy New Year, Sally\n"
     ]
    }
   ],
   "source": [
    "for i in range(len(friends)):    # using iteration variable to go through the positions\n",
    "    friend = friends[i]\n",
    "    print('Happy New Year,', friend)"
   ]
  },
  {
   "cell_type": "markdown",
   "metadata": {},
   "source": [
    "### Enumerate"
   ]
  },
  {
   "cell_type": "markdown",
   "metadata": {},
   "source": [
    "It is used to get indexes when the list is iterated over. Enumerate takes an iterable and adds a counter to it.\n",
    "\n",
    "It produces a tuple ```(index, value)``` and the for loop binds it to ```index, value```\n",
    "\n",
    "Enumerate is considered as the most idiomatic way to iterate over a list"
   ]
  },
  {
   "cell_type": "code",
   "execution_count": 20,
   "metadata": {},
   "outputs": [
    {
     "name": "stdout",
     "output_type": "stream",
     "text": [
      "0 8\n",
      "1 23\n",
      "2 45\n",
      "3 12\n",
      "4 78\n"
     ]
    }
   ],
   "source": [
    "ints = [8, 23, 45, 12, 78]\n",
    "for index, value in enumerate(ints):\n",
    "    print(index, value)"
   ]
  },
  {
   "cell_type": "markdown",
   "metadata": {},
   "source": [
    "By default, enumerate() starts counting at 0 but if you give it a second integer argument, it'll start from that number instead:"
   ]
  },
  {
   "cell_type": "code",
   "execution_count": 32,
   "metadata": {},
   "outputs": [
    {
     "name": "stdout",
     "output_type": "stream",
     "text": [
      "1 8\n",
      "2 23\n",
      "3 45\n",
      "4 12\n",
      "5 78\n"
     ]
    }
   ],
   "source": [
    "for index, value in enumerate(ints, start = 1):\n",
    "    print(index, value)"
   ]
  },
  {
   "cell_type": "markdown",
   "metadata": {},
   "source": [
    "**Note: This doesn't skip the first item in the list, it offsets the index by the start value, so you would get an array out of bounds if you did something like: sequence[i] in your code.**"
   ]
  },
  {
   "cell_type": "markdown",
   "metadata": {},
   "source": [
    "#### Indices of an item using enumerate"
   ]
  },
  {
   "cell_type": "code",
   "execution_count": 33,
   "metadata": {},
   "outputs": [
    {
     "name": "stdout",
     "output_type": "stream",
     "text": [
      "1\n",
      "4\n"
     ]
    }
   ],
   "source": [
    "my_list = ['foo', 'bar', 'baz', 'foo', 'bar', 'baz']\n",
    "for index, val in enumerate(my_list):\n",
    "    if val == 'bar':\n",
    "        print(index)"
   ]
  },
  {
   "cell_type": "markdown",
   "metadata": {},
   "source": [
    "### Concatenating"
   ]
  },
  {
   "cell_type": "code",
   "execution_count": 67,
   "metadata": {},
   "outputs": [
    {
     "name": "stdout",
     "output_type": "stream",
     "text": [
      "[1, 2, 3, 4, 5, 6]\n",
      "[1, 2, 3]\n"
     ]
    }
   ],
   "source": [
    "a = [1, 2, 3]\n",
    "b = [4, 5, 6]\n",
    "\n",
    "c = a + b\n",
    "print(c)\n",
    "\n",
    "print(a)"
   ]
  },
  {
   "cell_type": "markdown",
   "metadata": {},
   "source": [
    "### Slicing"
   ]
  },
  {
   "cell_type": "markdown",
   "metadata": {},
   "source": [
    "```a[start:stop]```  # items start through stop-1\n",
    "\n",
    "```a[start:]```      # items start through the rest of the array\n",
    "\n",
    "```a[:stop]```       # items from the beginning through stop-1\n",
    "\n",
    "```a[:]```           # a copy of the whole array"
   ]
  },
  {
   "cell_type": "code",
   "execution_count": 29,
   "metadata": {},
   "outputs": [
    {
     "name": "stdout",
     "output_type": "stream",
     "text": [
      "[41, 12]\n",
      "[9, 41, 12, 3]\n",
      "[3, 74, 15]\n",
      "[9, 41, 12, 3, 74, 15]\n"
     ]
    }
   ],
   "source": [
    "t = [9, 41, 12, 3, 74, 15]\n",
    "\n",
    "print(t[1:3])\n",
    "print(t[:4])\n",
    "print(t[3:])\n",
    "print(t[:])"
   ]
  },
  {
   "cell_type": "markdown",
   "metadata": {},
   "source": [
    "#### Extracting elemets at odd positions from a list"
   ]
  },
  {
   "cell_type": "markdown",
   "metadata": {},
   "source": [
    "```a[start:stop:step]``` # start through not past stop, by step"
   ]
  },
  {
   "cell_type": "code",
   "execution_count": 30,
   "metadata": {},
   "outputs": [
    {
     "name": "stdout",
     "output_type": "stream",
     "text": [
      "[41, 3, 15]\n"
     ]
    }
   ],
   "source": [
    "odd_elements = t[1::2]\n",
    "print(odd_elements)"
   ]
  },
  {
   "cell_type": "markdown",
   "metadata": {},
   "source": [
    "#### Slicing Miscellaneous"
   ]
  },
  {
   "cell_type": "markdown",
   "metadata": {},
   "source": [
    "```t[-1]```      # last item in the array\n",
    "\n",
    "```t[-2:]```     # last two items in the array\n",
    "\n",
    "```t[:-2]```     # everything except the last two items\n",
    "\n",
    "```t[::-1]```    # all items in the array, reversed\n",
    "\n",
    "```t[1::-1]```   # the first two items, reversed\n",
    "\n",
    "```t[:-3:-1]```  # the last two items, reversed\n",
    "\n",
    "```t[-3::-1]```  # everything except the last two items, reversed"
   ]
  },
  {
   "cell_type": "markdown",
   "metadata": {},
   "source": [
    "### Sorted and Sort"
   ]
  },
  {
   "cell_type": "code",
   "execution_count": 8,
   "metadata": {},
   "outputs": [
    {
     "name": "stdout",
     "output_type": "stream",
     "text": [
      "Initial list:          ['Joseph', 'Glenn', 'Sally']\n",
      "After using sorted():  ['Glenn', 'Joseph', 'Sally']\n",
      "Initial list:          ['Joseph', 'Glenn', 'Sally']\n",
      "After using sort():    ['Glenn', 'Joseph', 'Sally']\n"
     ]
    }
   ],
   "source": [
    "friends = ['Joseph', 'Glenn', 'Sally']\n",
    "print(\"Initial list:         \", friends)\n",
    "\n",
    "sorted_list = sorted(friends)    # does not modify existing list, creates a new list\n",
    "print(\"After using sorted(): \", sorted_list)\n",
    "\n",
    "print(\"Initial list:         \", friends)\n",
    "\n",
    "friends.sort()                   # modifies the list in-place\n",
    "print(\"After using sort():   \", friends)"
   ]
  },
  {
   "cell_type": "markdown",
   "metadata": {},
   "source": [
    "### Append and Extend"
   ]
  },
  {
   "cell_type": "markdown",
   "metadata": {},
   "source": [
    "Append adds its argument/object (number, string, another list, etc.) as a single element to the end of a list. The length of the list will increase by one.\n",
    "\n",
    "In general use-cases, this is generally not required."
   ]
  },
  {
   "cell_type": "code",
   "execution_count": 13,
   "metadata": {},
   "outputs": [
    {
     "name": "stdout",
     "output_type": "stream",
     "text": [
      "['foo', 'bar']\n",
      "['foo', 'bar', 'baz']\n",
      "['foo', 'bar', 'baz', [1, 2, 3]]\n"
     ]
    }
   ],
   "source": [
    "my_list = ['foo', 'bar']\n",
    "print(my_list)\n",
    "my_list.append('baz')\n",
    "print(my_list)\n",
    "\n",
    "another_list = [1, 2, 3]\n",
    "my_list.append(another_list)\n",
    "print(my_list)"
   ]
  },
  {
   "cell_type": "markdown",
   "metadata": {},
   "source": [
    "#### Extend iterates over its argument by adding each element to the list, thereby extending the list. The length of the list will increase by however many elements were in the iterable argument.\n",
    "\n",
    "#### NOTE: String is an iterable, so if you extend a list with a string, you'll append each character as you iterate over the string"
   ]
  },
  {
   "cell_type": "code",
   "execution_count": 15,
   "metadata": {},
   "outputs": [
    {
     "name": "stdout",
     "output_type": "stream",
     "text": [
      "['foo', 'bar']\n",
      "['foo', 'bar', 'b', 'a', 'z']\n",
      "['foo', 'bar', 'b', 'a', 'z', 1, 2, 3]\n"
     ]
    }
   ],
   "source": [
    "new_list = ['foo', 'bar']\n",
    "print(new_list)\n",
    "new_list.extend('baz')\n",
    "print(new_list)\n",
    "\n",
    "other_list = [1, 2, 3]\n",
    "new_list.extend(other_list)\n",
    "print(new_list)"
   ]
  },
  {
   "cell_type": "markdown",
   "metadata": {},
   "source": [
    "#### Extend is semantically clearer and runs much faster than append, when you intend to append each element in an iterable to a list."
   ]
  },
  {
   "cell_type": "code",
   "execution_count": 17,
   "metadata": {},
   "outputs": [
    {
     "name": "stdout",
     "output_type": "stream",
     "text": [
      "['b', 'a', 'n', 'a', 'n', 'a']\n"
     ]
    }
   ],
   "source": [
    "fruit = 'banana'\n",
    "letters = []\n",
    "for letter in fruit:\n",
    "    letters.append(letter)    \n",
    "print(letters)"
   ]
  },
  {
   "cell_type": "code",
   "execution_count": 18,
   "metadata": {},
   "outputs": [
    {
     "name": "stdout",
     "output_type": "stream",
     "text": [
      "['b', 'a', 'n', 'a', 'n', 'a']\n"
     ]
    }
   ],
   "source": [
    "fruit = 'banana'\n",
    "letters = []\n",
    "for letter in fruit:\n",
    "    letters.extend(letter)    \n",
    "print(letters)"
   ]
  },
  {
   "cell_type": "markdown",
   "metadata": {},
   "source": [
    "Append has constant time complexity, O(1).\n",
    "\n",
    "Extend has time complexity, O(n).\n",
    "\n",
    "Iterating through the multiple calls to append adds to the complexity, making it equivalent to that of extend, and since extend's iteration is implemented in C, it will always be faster if you intend to append successive items from an iterable onto a list."
   ]
  },
  {
   "cell_type": "markdown",
   "metadata": {},
   "source": [
    "### Common built-in functions"
   ]
  },
  {
   "cell_type": "code",
   "execution_count": 19,
   "metadata": {},
   "outputs": [
    {
     "name": "stdout",
     "output_type": "stream",
     "text": [
      "6\n",
      "74\n",
      "3\n",
      "154\n",
      "[3, 41, 9, 74, 15]\n",
      "Average = 28.4\n"
     ]
    }
   ],
   "source": [
    "nums = [3, 41, 12, 9, 74, 15]\n",
    "\n",
    "print(len(nums))        # length of the list\n",
    "\n",
    "print(max(nums))        # maximum element in the list\n",
    "\n",
    "print(min(nums))        # minimum element in the list\n",
    "\n",
    "print(sum(nums))        # sum of elements in the list\n",
    "\n",
    "print('Average = ' + str(sum(nums) / len(nums)))"
   ]
  },
  {
   "cell_type": "markdown",
   "metadata": {},
   "source": [
    "### Modifying list"
   ]
  },
  {
   "cell_type": "code",
   "execution_count": 26,
   "metadata": {},
   "outputs": [
    {
     "name": "stdout",
     "output_type": "stream",
     "text": [
      "['g', 'o', 'l', 'd']\n",
      "g|o|l|d\n",
      "['g', 'o', 'd']\n"
     ]
    }
   ],
   "source": [
    "mylist = list('gold')\n",
    "\n",
    "print(mylist)\n",
    "\n",
    "print('|'.join(mylist))    # adding delimiter\n",
    "\n",
    "del mylist[2]              # delete item at index 2\n",
    "print(mylist)"
   ]
  },
  {
   "cell_type": "markdown",
   "metadata": {},
   "source": [
    "#### Calculating average"
   ]
  },
  {
   "cell_type": "code",
   "execution_count": 76,
   "metadata": {},
   "outputs": [
    {
     "name": "stdin",
     "output_type": "stream",
     "text": [
      "Enter a number:  12\n",
      "Enter a number:  34\n",
      "Enter a number:  done\n"
     ]
    },
    {
     "name": "stdout",
     "output_type": "stream",
     "text": [
      "Average =  23.0\n"
     ]
    }
   ],
   "source": [
    "numlist = list()\n",
    "while True:\n",
    "    user_input = input('Enter a number: ')\n",
    "    if user_input == 'done':\n",
    "        break\n",
    "    value = float(user_input)\n",
    "    numlist.append(value)        # List is stored in the memory simultaneously, which uses more memory\n",
    "\n",
    "average = sum(numlist) / len(numlist)\n",
    "print('Average = ', average)"
   ]
  },
  {
   "cell_type": "code",
   "execution_count": 77,
   "metadata": {},
   "outputs": [
    {
     "name": "stdin",
     "output_type": "stream",
     "text": [
      "Enter a number:  23\n",
      "Enter a number:  45\n",
      "Enter a number:  done\n"
     ]
    },
    {
     "name": "stdout",
     "output_type": "stream",
     "text": [
      "Average:  34.0\n"
     ]
    }
   ],
   "source": [
    "total = 0\n",
    "count = 0\n",
    "while True:\n",
    "    user_inp = input('Enter a number: ')\n",
    "    if user_inp == 'done':\n",
    "        break\n",
    "    value = float(user_inp)\n",
    "    total = total + value\n",
    "    count = count + 1\n",
    "\n",
    "avg = total / count\n",
    "print('Average: ', avg)"
   ]
  },
  {
   "cell_type": "markdown",
   "metadata": {},
   "source": [
    "#### Sum of first 100 numbers"
   ]
  },
  {
   "cell_type": "code",
   "execution_count": 20,
   "metadata": {},
   "outputs": [
    {
     "name": "stdout",
     "output_type": "stream",
     "text": [
      "5050\n"
     ]
    }
   ],
   "source": [
    "sum_n = 0\n",
    "for i in range(1, 101):\n",
    "    sum_n = sum_n + i\n",
    "print(sum_n)"
   ]
  },
  {
   "cell_type": "code",
   "execution_count": 1,
   "metadata": {},
   "outputs": [
    {
     "name": "stdout",
     "output_type": "stream",
     "text": [
      "5050\n"
     ]
    }
   ],
   "source": [
    "def sum_n(num):\n",
    "    return sum(range(num+1))\n",
    "\n",
    "print(sum_n(100))"
   ]
  },
  {
   "cell_type": "markdown",
   "metadata": {},
   "source": [
    "### List Comprehension"
   ]
  },
  {
   "cell_type": "markdown",
   "metadata": {},
   "source": [
    "List comprehensions is a way of creating a list based on some iterable. During the creation, elements from the iterable can be conditionally included in the new list and transformed as needed.\n",
    "\n",
    "It is typically of the form: ```result = [transformation    iterable    condition/filter]```, where filter is optional. Simple LCs contain ```result, transformation, ``` and ```iterable```\n",
    "\n",
    "__**Commonly Used Syntax**__\n",
    "\n",
    "```[f(x) for x in sequence]```\n",
    "\n",
    "```[f(x) for x in sequence if condition]```\n",
    "\n",
    "```[f(x) if condition else g(x) for x in sequence]```\n",
    "NOTE: The if/else here is \"ternary operator\" syntax"
   ]
  },
  {
   "cell_type": "code",
   "execution_count": 3,
   "metadata": {},
   "outputs": [
    {
     "name": "stdout",
     "output_type": "stream",
     "text": [
      "[0, 1, 4, 9, 16]\n"
     ]
    }
   ],
   "source": [
    "squares = [x * x    for x in range(5)]\n",
    "print(squares)"
   ]
  },
  {
   "cell_type": "code",
   "execution_count": 5,
   "metadata": {},
   "outputs": [
    {
     "name": "stdout",
     "output_type": "stream",
     "text": [
      "[0, 4, 16]\n"
     ]
    }
   ],
   "source": [
    "even_squares = [i * i    for i in range(5)    if i % 2 == 0]\n",
    "print(even_squares)"
   ]
  },
  {
   "cell_type": "code",
   "execution_count": 13,
   "metadata": {},
   "outputs": [
    {
     "name": "stdout",
     "output_type": "stream",
     "text": [
      "['Even', 'Odd', 'Even', 'Odd', 'Even']\n",
      "[27, 18, 46, 51, 99, 70, 48, 49, 6]\n"
     ]
    }
   ],
   "source": [
    "all_squares = ['Even'    if i % 2 == 0    else 'Odd'    for i in range(5)]\n",
    "print(all_squares)\n",
    "\n",
    "l = [22, 13, 45, 50, 98, 69, 43, 44, 1]\n",
    "print([x+1 if x >= 45 else x+5 for x in l])"
   ]
  },
  {
   "cell_type": "markdown",
   "metadata": {},
   "source": [
    "#### Indices of an item using list comprehension"
   ]
  },
  {
   "cell_type": "code",
   "execution_count": 46,
   "metadata": {},
   "outputs": [
    {
     "data": {
      "text/plain": [
       "[1, 4]"
      ]
     },
     "execution_count": 46,
     "metadata": {},
     "output_type": "execute_result"
    }
   ],
   "source": [
    "my_list = ['foo', 'bar', 'baz', 'foo', 'bar', 'baz']\n",
    "[i for i, j in enumerate(my_list) if j == 'bar']"
   ]
  },
  {
   "cell_type": "markdown",
   "metadata": {},
   "source": [
    "#### Making a (flat) list out of sublists"
   ]
  },
  {
   "cell_type": "code",
   "execution_count": 43,
   "metadata": {},
   "outputs": [
    {
     "name": "stdout",
     "output_type": "stream",
     "text": [
      "[[1, 2, 3], [4, 5, 6], [7], [8, 9]]\n",
      "[1, 2, 3, 4, 5, 6, 7, 8, 9]\n"
     ]
    }
   ],
   "source": [
    "many_lists = [[1, 2, 3], [4, 5, 6], [7], [8, 9]]\n",
    "print(many_lists)\n",
    "\n",
    "flat_list = [item for sublist in many_lists for item in sublist]\n",
    "print(flat_list)"
   ]
  },
  {
   "cell_type": "code",
   "execution_count": 44,
   "metadata": {},
   "outputs": [
    {
     "name": "stdout",
     "output_type": "stream",
     "text": [
      "[1, 2, 3, 4, 5, 6, 7, 8, 9]\n"
     ]
    }
   ],
   "source": [
    "# More readable and faster\n",
    "import itertools\n",
    "merged_list = list(itertools.chain.from_iterable(many_lists))\n",
    "print(merged_list)"
   ]
  },
  {
   "cell_type": "markdown",
   "metadata": {},
   "source": [
    "#### Intersection of two lists"
   ]
  },
  {
   "cell_type": "code",
   "execution_count": 6,
   "metadata": {},
   "outputs": [
    {
     "name": "stdout",
     "output_type": "stream",
     "text": [
      "[1, 3, 5]\n",
      "[1, 3, 5]\n"
     ]
    }
   ],
   "source": [
    "a = [1,2,3,4,5]\n",
    "b = [1,3,5,6]\n",
    "\n",
    "lc = [x for x in a if x in b]    # all the x values that are in A, if the X value is in B\n",
    "print(lc)\n",
    "\n",
    "_auxset = set(a)                      # make a set out of the larger one\n",
    "c = [x for x in b if x in _auxset]    # preserve b's ordering, not a's\n",
    "print(c)"
   ]
  },
  {
   "cell_type": "markdown",
   "metadata": {},
   "source": [
    "NOTE: Using ```if x in a``` as the condition in the list comprehension would also work, and avoid the need to build _auxset, but unfortunately for lists of substantial length it would be a lot slower. This solution will preserve the list's ordering (b in this case), but is significantly slower than using ```c = sorted(set(a).intersection(b))``` (in Set.ipynb)."
   ]
  },
  {
   "cell_type": "markdown",
   "metadata": {},
   "source": [
    "#### Splitting a list into evenly sized chunks"
   ]
  },
  {
   "cell_type": "code",
   "execution_count": 38,
   "metadata": {},
   "outputs": [
    {
     "name": "stdout",
     "output_type": "stream",
     "text": [
      "[10, 11, 12, 13, 14, 15, 16, 17, 18, 19, 20, 21, 22, 23, 24, 25, 26, 27, 28, 29, 30, 31, 32, 33, 34, 35, 36, 37, 38, 39, 40, 41, 42, 43, 44, 45, 46, 47, 48, 49, 50, 51, 52, 53, 54, 55, 56, 57, 58, 59, 60, 61, 62, 63, 64, 65, 66, 67, 68, 69, 70, 71, 72, 73, 74]\n",
      "[[10, 11, 12, 13, 14, 15, 16, 17, 18, 19],\n",
      " [20, 21, 22, 23, 24, 25, 26, 27, 28, 29],\n",
      " [30, 31, 32, 33, 34, 35, 36, 37, 38, 39],\n",
      " [40, 41, 42, 43, 44, 45, 46, 47, 48, 49],\n",
      " [50, 51, 52, 53, 54, 55, 56, 57, 58, 59],\n",
      " [60, 61, 62, 63, 64, 65, 66, 67, 68, 69],\n",
      " [70, 71, 72, 73, 74]]\n"
     ]
    }
   ],
   "source": [
    "import pprint\n",
    "\n",
    "test_list = list(range(10, 75))\n",
    "print(test_list)\n",
    "\n",
    "def chunks(l, n):\n",
    "    \"\"\"Yield successive n-sized chunks from l.\"\"\"\n",
    "    for i in range(0, len(l), n):\n",
    "        yield l[i:i + n]\n",
    "\n",
    "pprint.pprint(list(chunks(test_list, 10)))"
   ]
  },
  {
   "cell_type": "code",
   "execution_count": 41,
   "metadata": {},
   "outputs": [
    {
     "name": "stdout",
     "output_type": "stream",
     "text": [
      "[10, 11, 12, 13, 14, 15, 16, 17, 18, 19, 20, 21, 22, 23, 24, 25, 26, 27, 28, 29, 30, 31, 32, 33, 34, 35, 36, 37, 38, 39, 40, 41, 42, 43, 44, 45, 46, 47, 48, 49, 50, 51, 52, 53, 54, 55, 56, 57, 58, 59, 60, 61, 62, 63, 64, 65, 66, 67, 68, 69, 70, 71, 72, 73, 74]\n",
      "[(10, 11, 12, 13, 14, 15, 16, 17, 18, 19),\n",
      " (20, 21, 22, 23, 24, 25, 26, 27, 28, 29),\n",
      " (30, 31, 32, 33, 34, 35, 36, 37, 38, 39),\n",
      " (40, 41, 42, 43, 44, 45, 46, 47, 48, 49),\n",
      " (50, 51, 52, 53, 54, 55, 56, 57, 58, 59),\n",
      " (60, 61, 62, 63, 64, 65, 66, 67, 68, 69),\n",
      " (70, 71, 72, 73, 74, None, None, None, None, None)]\n"
     ]
    }
   ],
   "source": [
    "import pprint\n",
    "from itertools import zip_longest # for Python 3.x\n",
    "# from six.moves import zip_longest # for Python 2 and 3; uses the six compat library\n",
    "\n",
    "test_list = list(range(10, 75))\n",
    "print(test_list)\n",
    "\n",
    "def grouper(n, iterable, padvalue=None):\n",
    "    \"grouper(3, 'abcdefg', 'x') --> ('a','b','c'), ('d','e','f'), ('g','x','x')\"\n",
    "    return zip_longest(*[iter(iterable)]*n, fillvalue=padvalue)\n",
    "\n",
    "even_chunks = grouper(10, test_list)\n",
    "pprint.pprint(list(even_chunks))"
   ]
  },
  {
   "cell_type": "markdown",
   "metadata": {},
   "source": [
    "### Getting details about lists"
   ]
  },
  {
   "cell_type": "code",
   "execution_count": 70,
   "metadata": {},
   "outputs": [
    {
     "data": {
      "text/plain": [
       "list"
      ]
     },
     "execution_count": 70,
     "metadata": {},
     "output_type": "execute_result"
    }
   ],
   "source": [
    "type(t)"
   ]
  },
  {
   "cell_type": "code",
   "execution_count": 71,
   "metadata": {},
   "outputs": [
    {
     "data": {
      "text/plain": [
       "['__add__',\n",
       " '__class__',\n",
       " '__contains__',\n",
       " '__delattr__',\n",
       " '__delitem__',\n",
       " '__dir__',\n",
       " '__doc__',\n",
       " '__eq__',\n",
       " '__format__',\n",
       " '__ge__',\n",
       " '__getattribute__',\n",
       " '__getitem__',\n",
       " '__gt__',\n",
       " '__hash__',\n",
       " '__iadd__',\n",
       " '__imul__',\n",
       " '__init__',\n",
       " '__init_subclass__',\n",
       " '__iter__',\n",
       " '__le__',\n",
       " '__len__',\n",
       " '__lt__',\n",
       " '__mul__',\n",
       " '__ne__',\n",
       " '__new__',\n",
       " '__reduce__',\n",
       " '__reduce_ex__',\n",
       " '__repr__',\n",
       " '__reversed__',\n",
       " '__rmul__',\n",
       " '__setattr__',\n",
       " '__setitem__',\n",
       " '__sizeof__',\n",
       " '__str__',\n",
       " '__subclasshook__',\n",
       " 'append',\n",
       " 'clear',\n",
       " 'copy',\n",
       " 'count',\n",
       " 'extend',\n",
       " 'index',\n",
       " 'insert',\n",
       " 'pop',\n",
       " 'remove',\n",
       " 'reverse',\n",
       " 'sort']"
      ]
     },
     "execution_count": 71,
     "metadata": {},
     "output_type": "execute_result"
    }
   ],
   "source": [
    "dir(t)"
   ]
  }
 ],
 "metadata": {
  "kernelspec": {
   "display_name": "Python 3",
   "language": "python",
   "name": "python3"
  },
  "language_info": {
   "codemirror_mode": {
    "name": "ipython",
    "version": 3
   },
   "file_extension": ".py",
   "mimetype": "text/x-python",
   "name": "python",
   "nbconvert_exporter": "python",
   "pygments_lexer": "ipython3",
   "version": "3.7.4"
  }
 },
 "nbformat": 4,
 "nbformat_minor": 4
}
