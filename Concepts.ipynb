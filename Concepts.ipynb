{
 "cells": [
  {
   "cell_type": "markdown",
   "metadata": {},
   "source": [
    "# Memoization"
   ]
  },
  {
   "cell_type": "markdown",
   "metadata": {},
   "source": [
    "It is an optimization technique used to speed up the running time of programs. It stores the results of expensive function calls in a cache, and returns the cached result when the same input occurs again."
   ]
  },
  {
   "cell_type": "markdown",
   "metadata": {},
   "source": [
    "### Without memoization"
   ]
  },
  {
   "cell_type": "code",
   "execution_count": 14,
   "metadata": {},
   "outputs": [
    {
     "name": "stdout",
     "output_type": "stream",
     "text": [
      "Computing 4...\n",
      "16\n",
      "Computing 10...\n",
      "100\n",
      "Computing 4...\n",
      "16\n",
      "Computing 10...\n",
      "100\n",
      "[Finished in 8.04 sec]\n"
     ]
    }
   ],
   "source": [
    "import time\n",
    "\n",
    "start_time1 = time.time()\n",
    "\n",
    "def expensive_function(num):\n",
    "    print(\"Computing {}...\".format(num))\n",
    "    time.sleep(2)\n",
    "    result = num * num\n",
    "    return result\n",
    "\n",
    "res = expensive_function(4)\n",
    "print(res)\n",
    "\n",
    "res = expensive_function(10)\n",
    "print(res)\n",
    "\n",
    "res = expensive_function(4)\n",
    "print(res)\n",
    "\n",
    "res = expensive_function(10)\n",
    "print(res)\n",
    "\n",
    "print(\"[Finished in %s sec]\"%round(time.time() - start_time1, 2))\n"
   ]
  },
  {
   "cell_type": "markdown",
   "metadata": {},
   "source": [
    "### With Memoization"
   ]
  },
  {
   "cell_type": "code",
   "execution_count": 15,
   "metadata": {},
   "outputs": [
    {
     "name": "stdout",
     "output_type": "stream",
     "text": [
      "Computing 4...\n",
      "16\n",
      "Computing 10...\n",
      "100\n",
      "Computing 4...\n",
      "16\n",
      "Computing 10...\n",
      "100\n",
      "[Finished in 4.02 sec]\n"
     ]
    }
   ],
   "source": [
    "import time\n",
    "\n",
    "start_time2 = time.time()\n",
    "\n",
    "result_cache = {}\n",
    "\n",
    "def expensive_function(num):\n",
    "    if num in result_cache:\n",
    "        print(\"Computing {}...\".format(num))\n",
    "        return result_cache[num]\n",
    "    \n",
    "    print(\"Computing {}...\".format(num))\n",
    "    time.sleep(2)\n",
    "    result = num * num\n",
    "    result_cache[num] = result\n",
    "    return result\n",
    "\n",
    "res = expensive_function(4)\n",
    "print(res)\n",
    "\n",
    "res = expensive_function(10)\n",
    "print(res)\n",
    "\n",
    "res = expensive_function(4)\n",
    "print(res)\n",
    "\n",
    "res = expensive_function(10)\n",
    "print(res)\n",
    "\n",
    "print(\"[Finished in %s sec]\"%round(time.time() - start_time2, 2))"
   ]
  },
  {
   "cell_type": "markdown",
   "metadata": {},
   "source": [
    "**How is the cache used internally to store and retrieve results?**"
   ]
  },
  {
   "cell_type": "markdown",
   "metadata": {},
   "source": [
    "# Generators"
   ]
  },
  {
   "cell_type": "code",
   "execution_count": null,
   "metadata": {},
   "outputs": [],
   "source": []
  },
  {
   "cell_type": "markdown",
   "metadata": {},
   "source": [
    "# Lambda Function"
   ]
  },
  {
   "cell_type": "code",
   "execution_count": null,
   "metadata": {},
   "outputs": [],
   "source": []
  },
  {
   "cell_type": "markdown",
   "metadata": {},
   "source": [
    "# Yield Keyword"
   ]
  },
  {
   "cell_type": "code",
   "execution_count": null,
   "metadata": {},
   "outputs": [],
   "source": []
  }
 ],
 "metadata": {
  "kernelspec": {
   "display_name": "Python 3",
   "language": "python",
   "name": "python3"
  },
  "language_info": {
   "codemirror_mode": {
    "name": "ipython",
    "version": 3
   },
   "file_extension": ".py",
   "mimetype": "text/x-python",
   "name": "python",
   "nbconvert_exporter": "python",
   "pygments_lexer": "ipython3",
   "version": "3.7.4"
  }
 },
 "nbformat": 4,
 "nbformat_minor": 4
}
