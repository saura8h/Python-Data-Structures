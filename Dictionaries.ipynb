{
 "cells": [
  {
   "cell_type": "markdown",
   "metadata": {},
   "source": [
    "# Dictionary"
   ]
  },
  {
   "cell_type": "markdown",
   "metadata": {},
   "source": [
    "- A dictionary is a collection of key-value pairs, where each key is connected to a value\n",
    "\n",
    "- A key has to be used to access the value associated with it\n",
    "\n",
    "- A dictionary key should (preferably) be a datatype that is immutable and comparable, like string, integer, or tuple\n",
    "\n",
    "- A dictionary value can be a number, a string, a list, or even another dictionary (literally any python object)\n",
    "\n",
    "- Python's most powerful data collection and can store an almost limitless amount of information"
   ]
  },
  {
   "cell_type": "markdown",
   "metadata": {},
   "source": [
    "### Starting with an empty dictionary"
   ]
  },
  {
   "cell_type": "markdown",
   "metadata": {},
   "source": [
    "A dictionary can be initialized as a **dict literal** using `{}`, or as a **dict constructor** using `dict()`"
   ]
  },
  {
   "cell_type": "code",
   "execution_count": 82,
   "metadata": {},
   "outputs": [
    {
     "name": "stdout",
     "output_type": "stream",
     "text": [
      "{}\n",
      "{}\n"
     ]
    }
   ],
   "source": [
    "alien_0 = {}\n",
    "alien_1 = dict()\n",
    "\n",
    "print(alien_0)\n",
    "print(alien_1)"
   ]
  },
  {
   "cell_type": "markdown",
   "metadata": {},
   "source": [
    "**NOTE**: In terms of performance, a dict literal is faster than a dict constructor because the latter looks up `dict` in `locals()` and `globals()` and then finds the builtin. Also, the former is much faster since it uses optimized `BUILD_MAP` and `STORE_MAP` opcodes rather than generic `CALL_FUNCTION`"
   ]
  },
  {
   "cell_type": "markdown",
   "metadata": {},
   "source": [
    "### Adding key-value pairs"
   ]
  },
  {
   "cell_type": "code",
   "execution_count": 83,
   "metadata": {},
   "outputs": [],
   "source": [
    "alien_0 = {\n",
    "    'color': 'green',\n",
    "    'points': 6,                          # although optional, its good to put `,` after the last element, so that a new key-value pair can be added more readily\n",
    "}\n",
    "\n",
    "alien_1 = dict(color='red', points=10)    # if the keys are string, they CANNOT be used in '', can't contain spaces or unicode characters"
   ]
  },
  {
   "cell_type": "markdown",
   "metadata": {},
   "source": [
    "### Accessing dictionary and its values"
   ]
  },
  {
   "cell_type": "code",
   "execution_count": 84,
   "metadata": {},
   "outputs": [
    {
     "name": "stdout",
     "output_type": "stream",
     "text": [
      "{'color': 'green', 'points': 6}\n",
      "{'color': 'red', 'points': 10}\n",
      "green\n",
      "10\n"
     ]
    }
   ],
   "source": [
    "print(alien_0)\n",
    "print(alien_1)\n",
    "\n",
    "print(alien_0['color'])\n",
    "print(alien_1['points'])    # referencing value of a dict (even if its created using constructor), will ALWAYS require '' around the key"
   ]
  },
  {
   "cell_type": "markdown",
   "metadata": {},
   "source": [
    "#### _Using `get` to access values_"
   ]
  },
  {
   "cell_type": "markdown",
   "metadata": {},
   "source": [
    "If a key the doesn't exist in a dictionary and is accessed, a `KeyError` will be shown the traceback. This method is used when there is a chance that a key may not exist in the dictionary. The `get()` method requires a key as a first argument, and the return value as a second optional argument if the key doesn’t exist"
   ]
  },
  {
   "cell_type": "code",
   "execution_count": 85,
   "metadata": {},
   "outputs": [
    {
     "name": "stdout",
     "output_type": "stream",
     "text": [
      "key attribute does not exist\n"
     ]
    }
   ],
   "source": [
    "speed_val = alien_0.get('speed', 'key attribute does not exist')\n",
    "print(speed_val)"
   ]
  },
  {
   "cell_type": "markdown",
   "metadata": {},
   "source": [
    "### Adding NEW key-value pairs"
   ]
  },
  {
   "cell_type": "code",
   "execution_count": 86,
   "metadata": {},
   "outputs": [
    {
     "name": "stdout",
     "output_type": "stream",
     "text": [
      "{'color': 'green', 'points': 6, 'x_position': 0, 'y_position': 25}\n",
      "{'color': 'red', 'points': 10, 'x_position': 4, 'y_position': 100}\n"
     ]
    }
   ],
   "source": [
    "alien_0['x_position'] = 0\n",
    "alien_0['y_position'] = 25\n",
    "\n",
    "alien_1['x_position'] = 4\n",
    "alien_1['y_position'] = 100\n",
    "\n",
    "print(alien_0)\n",
    "print(alien_1)"
   ]
  },
  {
   "cell_type": "markdown",
   "metadata": {},
   "source": [
    "**NOTE**: As of Python 3.7, dictionaries retain the order in which they were defined. When a dictionary is printed (or iterated over its elements), the elements will be in the same order in which they were added to."
   ]
  },
  {
   "cell_type": "markdown",
   "metadata": {},
   "source": [
    "### Modifying (Updating) values"
   ]
  },
  {
   "cell_type": "code",
   "execution_count": 87,
   "metadata": {},
   "outputs": [
    {
     "name": "stdout",
     "output_type": "stream",
     "text": [
      "The old color of alien 0 was green\n",
      "The new color of alien 0 is  yellow\n"
     ]
    }
   ],
   "source": [
    "print(f\"The old color of alien 0 was {alien_0['color']}\")\n",
    "alien_0['color'] = 'yellow'\n",
    "print(f\"The new color of alien 0 is  {alien_0['color']}\")"
   ]
  },
  {
   "cell_type": "markdown",
   "metadata": {},
   "source": [
    "_The position of the alien can be tracked based on its `speed`. The alein's initial speed can be stored in a variable and, assuming it moves to the right, `x-position` can be updated accordingly_"
   ]
  },
  {
   "cell_type": "code",
   "execution_count": 88,
   "metadata": {},
   "outputs": [
    {
     "name": "stdout",
     "output_type": "stream",
     "text": [
      "Initial speed of alien 0: 0\n",
      "Final speed of alien 0:   2\n"
     ]
    }
   ],
   "source": [
    "alien_0['speed'] = 'medium'\n",
    "print(f\"Initial speed of alien 0: {alien_0['x_position']}\")\n",
    "\n",
    "if alien_0['speed'] == 'slow':\n",
    "    alien_0['x_position'] += 1\n",
    "elif alien_0['speed'] == 'medium':\n",
    "    alien_0['x_position'] += 2\n",
    "else:                    # fast\n",
    "    alien_0['x_position'] += 3\n",
    "\n",
    "print(f\"Final speed of alien 0:   {alien_0['x_position']}\")"
   ]
  },
  {
   "cell_type": "markdown",
   "metadata": {},
   "source": [
    "### Removing key-value pairs"
   ]
  },
  {
   "cell_type": "code",
   "execution_count": 89,
   "metadata": {},
   "outputs": [
    {
     "name": "stdout",
     "output_type": "stream",
     "text": [
      "Dictionary of alien 1 contains: {'color': 'red', 'points': 10, 'x_position': 4, 'y_position': 100}\n",
      "Dictionary of alien 1 now contains: {'color': 'red', 'x_position': 4, 'y_position': 100}\n"
     ]
    }
   ],
   "source": [
    "print(f\"Dictionary of alien 1 contains: {alien_1}\")\n",
    "del alien_1['points']    # key AND its value are deleted permanently\n",
    "print(f\"Dictionary of alien 1 now contains: {alien_1}\")"
   ]
  },
  {
   "cell_type": "markdown",
   "metadata": {},
   "source": [
    "### Looping (Iterating)"
   ]
  },
  {
   "cell_type": "code",
   "execution_count": 95,
   "metadata": {},
   "outputs": [],
   "source": [
    "user_0 = {\n",
    "    'ID': 'efermi',\n",
    "    'firstname': 'enrico',\n",
    "    'lastname': 'fermi',\n",
    "}"
   ]
  },
  {
   "cell_type": "code",
   "execution_count": 102,
   "metadata": {},
   "outputs": [],
   "source": [
    "favorite_languages = {\n",
    "    'Jen': 'python',\n",
    "    'Sarah': 'C',\n",
    "    'Edward': 'ruby',\n",
    "    'Saurabh': 'python',\n",
    "}"
   ]
  },
  {
   "cell_type": "code",
   "execution_count": 103,
   "metadata": {},
   "outputs": [],
   "source": [
    "friends = ['Jen', 'Sarah']"
   ]
  },
  {
   "cell_type": "markdown",
   "metadata": {},
   "source": [
    "- #### Looping through all key-value pairs"
   ]
  },
  {
   "cell_type": "markdown",
   "metadata": {},
   "source": [
    "`items()` returns a list of key-value pairs"
   ]
  },
  {
   "cell_type": "code",
   "execution_count": 94,
   "metadata": {},
   "outputs": [
    {
     "name": "stdout",
     "output_type": "stream",
     "text": [
      "\n",
      "Key: ID\n",
      "Value: efermi\n",
      "\n",
      "Key: firstname\n",
      "Value: enrico\n",
      "\n",
      "Key: lastname\n",
      "Value: fermi\n"
     ]
    }
   ],
   "source": [
    "for key, value in user_0.items():\n",
    "    print(f\"\\nKey: {key}\")\n",
    "    print(f\"Value: {value}\")"
   ]
  },
  {
   "cell_type": "code",
   "execution_count": 99,
   "metadata": {},
   "outputs": [
    {
     "name": "stdout",
     "output_type": "stream",
     "text": [
      "Jen's favorite language is Python.\n",
      "Sarah's favorite language is C.\n",
      "Edward's favorite language is Ruby.\n",
      "Saurabh's favorite language is Python.\n"
     ]
    }
   ],
   "source": [
    "for name, language in favorite_languages.items():\n",
    "    print(f\"{name.title()}'s favorite language is {language.title()}.\")"
   ]
  },
  {
   "cell_type": "markdown",
   "metadata": {},
   "source": [
    "- #### Looping through all keys"
   ]
  },
  {
   "cell_type": "markdown",
   "metadata": {},
   "source": [
    "`keys()` returns a list of all keys"
   ]
  },
  {
   "cell_type": "code",
   "execution_count": 101,
   "metadata": {},
   "outputs": [
    {
     "name": "stdout",
     "output_type": "stream",
     "text": [
      "Jen\n",
      "Sarah\n",
      "Edward\n",
      "Saurabh\n"
     ]
    }
   ],
   "source": [
    "for name in favorite_languages.keys():\n",
    "    print(name.title())"
   ]
  },
  {
   "cell_type": "markdown",
   "metadata": {},
   "source": [
    "**NOTE**: Looping through keys is the default behavior when looping through a dictionary. \n",
    "\n",
    "So the `for` loop `for name in favorite_languages.keys():` and `for name in favorite_languages:` are the same."
   ]
  },
  {
   "cell_type": "code",
   "execution_count": 111,
   "metadata": {},
   "outputs": [
    {
     "name": "stdout",
     "output_type": "stream",
     "text": [
      "Erin, please take the poll!\n"
     ]
    }
   ],
   "source": [
    "if 'Erin' not in favorite_languages.keys():    # checks if 'Erin' is in the list of keys\n",
    "    print('Erin, please take the poll!')"
   ]
  },
  {
   "cell_type": "code",
   "execution_count": 116,
   "metadata": {},
   "outputs": [
    {
     "name": "stdout",
     "output_type": "stream",
     "text": [
      "Hi Jen!\n",
      "    Jen, I see that you love Python\n",
      "Hi Sarah!\n",
      "    Sarah, I see that you love C\n",
      "Hi Edward!\n",
      "Hi Saurabh!\n"
     ]
    }
   ],
   "source": [
    "for name in favorite_languages.keys():\n",
    "    print(f\"Hi {name.title()}!\")\n",
    "    if name in friends:\n",
    "        language = favorite_languages[name].title()\n",
    "        print(f\"    {name.title()}, I see that you love {language}\")"
   ]
  },
  {
   "cell_type": "markdown",
   "metadata": {},
   "source": [
    "_**Sorting Keys**_"
   ]
  },
  {
   "cell_type": "code",
   "execution_count": 115,
   "metadata": {},
   "outputs": [
    {
     "name": "stdout",
     "output_type": "stream",
     "text": [
      "Edward, thank you for taking th poll!\n",
      "Jen, thank you for taking th poll!\n",
      "Sarah, thank you for taking th poll!\n",
      "Saurabh, thank you for taking th poll!\n"
     ]
    }
   ],
   "source": [
    "for name in sorted(favorite_languages.keys()):\n",
    "    print(f\"{name.title()}, thank you for taking th poll!\")"
   ]
  },
  {
   "cell_type": "code",
   "execution_count": 118,
   "metadata": {},
   "outputs": [
    {
     "name": "stdout",
     "output_type": "stream",
     "text": [
      "Saurabh, thank you for taking the poll\n",
      "Sarah, thank you for taking the poll\n",
      "Jen, thank you for taking the poll\n",
      "Edward, thank you for taking the poll\n"
     ]
    }
   ],
   "source": [
    "for name in sorted(favorite_languages.keys(), reverse=True):\n",
    "    print(f\"{name.title()}, thank you for taking the poll\")"
   ]
  },
  {
   "cell_type": "markdown",
   "metadata": {},
   "source": [
    "- #### Looping through all values"
   ]
  },
  {
   "cell_type": "markdown",
   "metadata": {},
   "source": [
    "`values()` returns a list of all values"
   ]
  },
  {
   "cell_type": "code",
   "execution_count": 119,
   "metadata": {},
   "outputs": [
    {
     "name": "stdout",
     "output_type": "stream",
     "text": [
      "Python\n",
      "C\n",
      "Ruby\n",
      "Python\n"
     ]
    }
   ],
   "source": [
    "for language in favorite_languages.values():\n",
    "    print(language.title())"
   ]
  },
  {
   "cell_type": "markdown",
   "metadata": {},
   "source": [
    "_**Unique Values**_"
   ]
  },
  {
   "cell_type": "code",
   "execution_count": 122,
   "metadata": {},
   "outputs": [
    {
     "name": "stdout",
     "output_type": "stream",
     "text": [
      "C\n",
      "Ruby\n",
      "Python\n"
     ]
    }
   ],
   "source": [
    "for language in set(favorite_languages.values()):\n",
    "    print(f\"{language.title()}\")"
   ]
  },
  {
   "cell_type": "markdown",
   "metadata": {},
   "source": [
    "_**Frequency Count**_"
   ]
  },
  {
   "cell_type": "code",
   "execution_count": 127,
   "metadata": {},
   "outputs": [
    {
     "name": "stdout",
     "output_type": "stream",
     "text": [
      "{'python': 2, 'C': 1, 'ruby': 1}\n"
     ]
    }
   ],
   "source": [
    "popular_languages = {}\n",
    "for language in favorite_languages.values():\n",
    "    popular_languages[language] = popular_languages.get(language, 0) + 1\n",
    "print(popular_languages)"
   ]
  },
  {
   "cell_type": "markdown",
   "metadata": {},
   "source": [
    "### Nesting"
   ]
  },
  {
   "cell_type": "code",
   "execution_count": null,
   "metadata": {},
   "outputs": [],
   "source": []
  },
  {
   "cell_type": "code",
   "execution_count": null,
   "metadata": {},
   "outputs": [],
   "source": []
  },
  {
   "cell_type": "markdown",
   "metadata": {},
   "source": [
    "- #### List of dictionaries"
   ]
  },
  {
   "cell_type": "code",
   "execution_count": null,
   "metadata": {},
   "outputs": [],
   "source": []
  },
  {
   "cell_type": "code",
   "execution_count": null,
   "metadata": {},
   "outputs": [],
   "source": []
  },
  {
   "cell_type": "markdown",
   "metadata": {},
   "source": [
    "- #### List in dictionaries"
   ]
  },
  {
   "cell_type": "code",
   "execution_count": null,
   "metadata": {},
   "outputs": [],
   "source": []
  },
  {
   "cell_type": "code",
   "execution_count": null,
   "metadata": {},
   "outputs": [],
   "source": []
  },
  {
   "cell_type": "markdown",
   "metadata": {},
   "source": [
    "- #### Dictionary in dictionary"
   ]
  },
  {
   "cell_type": "code",
   "execution_count": null,
   "metadata": {},
   "outputs": [],
   "source": []
  },
  {
   "cell_type": "code",
   "execution_count": null,
   "metadata": {},
   "outputs": [],
   "source": []
  },
  {
   "cell_type": "code",
   "execution_count": null,
   "metadata": {},
   "outputs": [],
   "source": []
  },
  {
   "cell_type": "markdown",
   "metadata": {},
   "source": [
    "###  * args and ** kwargs"
   ]
  },
  {
   "cell_type": "markdown",
   "metadata": {},
   "source": [
    "#### Links\n",
    "    https://stackoverflow.com/questions/5710391/converting-python-dict-to-kwargs\n",
    "    https://stackoverflow.com/questions/1769403/what-is-the-purpose-and-use-of-kwargs?rq=1\n",
    "    https://stackoverflow.com/questions/3394835/use-of-args-and-kwargs\n",
    "    https://stackoverflow.com/questions/36901/what-does-double-star-asterisk-and-star-asterisk-do-for-parameters?noredirect=1&lq=1"
   ]
  },
  {
   "cell_type": "code",
   "execution_count": null,
   "metadata": {},
   "outputs": [],
   "source": []
  },
  {
   "cell_type": "code",
   "execution_count": null,
   "metadata": {},
   "outputs": [],
   "source": []
  },
  {
   "cell_type": "code",
   "execution_count": null,
   "metadata": {},
   "outputs": [],
   "source": []
  },
  {
   "cell_type": "markdown",
   "metadata": {},
   "source": [
    "### Append"
   ]
  },
  {
   "cell_type": "code",
   "execution_count": 18,
   "metadata": {},
   "outputs": [
    {
     "name": "stdout",
     "output_type": "stream",
     "text": [
      "Atlanta\n",
      "Mountain View\n",
      "Bangalore - India\n",
      "Shanghai - China\n"
     ]
    }
   ],
   "source": [
    "locations = {'North America': {'USA': ['Mountain View']}}\n",
    "\n",
    "locations['North America']['USA'].append('Atlanta')\n",
    "locations['Asia'] = {'India': ['Bangalore']}\n",
    "locations['Asia']['China'] = ['Shanghai']\n",
    "locations['Africa'] = {'Egypt': ['Cairo']}\n",
    "\n",
    "usa_sorted = sorted(locations['North America']['USA'])\n",
    "for city in usa_sorted:\n",
    "    print(city)\n",
    "\n",
    "asia_cities = []\n",
    "for countries, cities in locations['Asia'].items():\n",
    "    city_country = cities[0] + \" - \" + countries \n",
    "    asia_cities.append(city_country)\n",
    "asia_sorted = sorted(asia_cities)\n",
    "for city in asia_sorted:\n",
    "    print(city)"
   ]
  }
 ],
 "metadata": {
  "kernelspec": {
   "display_name": "Python 3",
   "language": "python",
   "name": "python3"
  },
  "language_info": {
   "codemirror_mode": {
    "name": "ipython",
    "version": 3
   },
   "file_extension": ".py",
   "mimetype": "text/x-python",
   "name": "python",
   "nbconvert_exporter": "python",
   "pygments_lexer": "ipython3",
   "version": "3.7.6"
  }
 },
 "nbformat": 4,
 "nbformat_minor": 4
}
