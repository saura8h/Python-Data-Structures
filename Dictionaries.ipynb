{
 "cells": [
  {
   "cell_type": "markdown",
   "metadata": {},
   "source": [
    "A dictionary is like a bag of values, where each item has its own label.\n",
    "Elements of a dictionary are **not** in order. Things in a dictionary are **indexed** with a \"lookup-tag\", which are used to retrieve, modify, and perform other operations on items.\n",
    "It is python's most powerful data collection, and used to perform fast database-like operations in python. \n",
    "(Called as hashmap or map or properties in Java)"
   ]
  },
  {
   "cell_type": "code",
   "execution_count": 7,
   "metadata": {},
   "outputs": [],
   "source": [
    "bag = dict()\n",
    "# bag[label] = item\n",
    "bag['money'] = 12\n",
    "bag['tissues'] = 4\n",
    "bag['chocolates'] = 5"
   ]
  },
  {
   "cell_type": "code",
   "execution_count": 10,
   "metadata": {},
   "outputs": [
    {
     "name": "stdout",
     "output_type": "stream",
     "text": [
      "{'money': 12, 'tissues': 4, 'chocolates': 7}\n",
      "7\n"
     ]
    }
   ],
   "source": [
    "print(bag)                    # may or may not come out in the same order as input\n",
    "print(bag['chocolates'])"
   ]
  },
  {
   "cell_type": "code",
   "execution_count": 11,
   "metadata": {},
   "outputs": [
    {
     "name": "stdout",
     "output_type": "stream",
     "text": [
      "9\n"
     ]
    }
   ],
   "source": [
    "bag['chocolates'] = bag['chocolates'] + 2\n",
    "print(bag['chocolates'])"
   ]
  },
  {
   "cell_type": "markdown",
   "metadata": {},
   "source": [
    "Dictionary literals have a list of key-value pairs, which are enclosed in curly braces.\n",
    "A dictionary can be empty if nothing is in the curly braces."
   ]
  },
  {
   "cell_type": "code",
   "execution_count": 17,
   "metadata": {},
   "outputs": [
    {
     "name": "stdout",
     "output_type": "stream",
     "text": [
      "{}\n",
      "{'chuck': 12, 'fred': 45, 'jan': 20}\n"
     ]
    }
   ],
   "source": [
    "test_dict = {}\n",
    "print(test_dict)\n",
    "\n",
    "dict_literal = {'chuck': 12, 'fred': 45, 'jan': 20}\n",
    "print(dict_literal)"
   ]
  },
  {
   "cell_type": "raw",
   "metadata": {},
   "source": []
  },
  {
   "cell_type": "markdown",
   "metadata": {},
   "source": [
    "The most common use of dictionary is **counting** how often we see something. \n",
    "Since it maintains a bunch of simultaneous counters, it is commonly used for these kinds of operations.\n",
    "\n",
    "#### Most common name:\n",
    "When you see a name for the first time, add it to a dictionary.\n",
    "If a name already exists, increment its counter by 1."
   ]
  },
  {
   "cell_type": "code",
   "execution_count": 28,
   "metadata": {},
   "outputs": [
    {
     "name": "stdout",
     "output_type": "stream",
     "text": [
      "{'csev': 2, 'cwen': 2, 'zquian': 1}\n"
     ]
    }
   ],
   "source": [
    "count = dict()\n",
    "names = ['csev', 'cwen', 'csev', 'zquian', 'cwen']\n",
    "\n",
    "for name in names:\n",
    "    if name not in count:\n",
    "        count[name] = 1\n",
    "    else:\n",
    "        count[name] += 1\n",
    "print(count)"
   ]
  },
  {
   "cell_type": "markdown",
   "metadata": {},
   "source": [
    "## Common Operations"
   ]
  },
  {
   "cell_type": "markdown",
   "metadata": {},
   "source": [
    "### Traceback"
   ]
  },
  {
   "cell_type": "code",
   "execution_count": 24,
   "metadata": {},
   "outputs": [
    {
     "name": "stdout",
     "output_type": "stream",
     "text": [
      "False\n"
     ]
    }
   ],
   "source": [
    "ccc = dict()\n",
    "# print(ccc['csev'])    # ERROR: key not present\n",
    "print('csev' in ccc)"
   ]
  },
  {
   "cell_type": "markdown",
   "metadata": {},
   "source": [
    "### Get"
   ]
  },
  {
   "cell_type": "code",
   "execution_count": 30,
   "metadata": {},
   "outputs": [
    {
     "name": "stdout",
     "output_type": "stream",
     "text": [
      "2\n",
      "2\n"
     ]
    }
   ],
   "source": [
    "# SYNTAX: dictionary_name.get(key, default_value_if_key_absent)\n",
    "# No traceback is returned if value is not present\n",
    "print(count.get(name, 0))\n",
    "\n",
    "# above line is equivalent to the below 4 lines\n",
    "\n",
    "if name in count:\n",
    "    print(count[name])\n",
    "else:\n",
    "    print(0)"
   ]
  },
  {
   "cell_type": "raw",
   "metadata": {},
   "source": [
    "Simplifying the most common name program with dictionary's get attribute"
   ]
  },
  {
   "cell_type": "code",
   "execution_count": 32,
   "metadata": {},
   "outputs": [
    {
     "name": "stdout",
     "output_type": "stream",
     "text": [
      "{'csev': 2, 'cwen': 2, 'zquian': 1}\n"
     ]
    }
   ],
   "source": [
    "count = dict()\n",
    "names = ['csev', 'cwen', 'csev', 'zquian', 'cwen']\n",
    "\n",
    "for name in names:\n",
    "    count[name] = count.get(name, 0) + 1\n",
    "print(count)"
   ]
  },
  {
   "cell_type": "code",
   "execution_count": null,
   "metadata": {},
   "outputs": [],
   "source": []
  }
 ],
 "metadata": {
  "kernelspec": {
   "display_name": "Python 3",
   "language": "python",
   "name": "python3"
  },
  "language_info": {
   "codemirror_mode": {
    "name": "ipython",
    "version": 3
   },
   "file_extension": ".py",
   "mimetype": "text/x-python",
   "name": "python",
   "nbconvert_exporter": "python",
   "pygments_lexer": "ipython3",
   "version": "3.7.4"
  }
 },
 "nbformat": 4,
 "nbformat_minor": 4
}
