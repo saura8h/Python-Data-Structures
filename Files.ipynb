{
 "cells": [
  {
   "cell_type": "markdown",
   "metadata": {},
   "source": [
    "The first step to reading a file is opening it. A file can be read using the open() function.\n",
    "open() returns a **file handle** - variable used to perform operations on a file.\n",
    "\n",
    "This function is similar to File -> Open in a program. "
   ]
  },
  {
   "cell_type": "code",
   "execution_count": 1,
   "metadata": {},
   "outputs": [],
   "source": [
    "File handle is neither the file nor the data in the file. It is a wrapper that allows file operations."
   ]
  },
  {
   "cell_type": "code",
   "execution_count": 3,
   "metadata": {},
   "outputs": [
    {
     "name": "stdout",
     "output_type": "stream",
     "text": [
      "<_io.TextIOWrapper name='counting_words.txt' mode='r' encoding='cp1252'>\n"
     ]
    }
   ],
   "source": [
    "# SYNATX: file_handler = open(filename.ext, mode)\n",
    "# filename is a string and mode can be 'r' for read, and/or 'w' for write.\n",
    "fhand = open('counting_words.txt', 'r')\n",
    "print(fhand)"
   ]
  },
  {
   "cell_type": "markdown",
   "metadata": {},
   "source": [
    "Newline characters (invisible escape sequence denoted by '\\n') are also a character.\n",
    "A text file has a newline character at the end of each line"
   ]
  },
  {
   "cell_type": "code",
   "execution_count": null,
   "metadata": {},
   "outputs": [],
   "source": []
  }
 ],
 "metadata": {
  "kernelspec": {
   "display_name": "Python 3",
   "language": "python",
   "name": "python3"
  },
  "language_info": {
   "codemirror_mode": {
    "name": "ipython",
    "version": 3
   },
   "file_extension": ".py",
   "mimetype": "text/x-python",
   "name": "python",
   "nbconvert_exporter": "python",
   "pygments_lexer": "ipython3",
   "version": "3.7.4"
  }
 },
 "nbformat": 4,
 "nbformat_minor": 4
}
